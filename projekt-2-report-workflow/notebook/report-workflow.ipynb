{
 "cells": [
  {
   "cell_type": "markdown",
   "metadata": {},
   "source": ["# Report Workflow"]
  },
  {
   "cell_type": "code",
   "execution_count": null,
   "metadata": {},
   "outputs": [],
   "source": ["# Hier kommt der Beispielcode für den PDF-Workflow"]
  }
],
 "metadata": {},
 "nbformat": 4,
 "nbformat_minor": 2
}
