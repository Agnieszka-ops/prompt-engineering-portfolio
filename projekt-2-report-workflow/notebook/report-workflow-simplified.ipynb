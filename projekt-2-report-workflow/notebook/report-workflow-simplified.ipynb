{
 "cells": [
  {
   "cell_type": "markdown",
   "id": "32caa226",
   "metadata": {},
   "source": [
    "# 📄 Berichtsanalyse mit LLM\n",
    "Dieses Notebook zeigt, wie du aus einem Geschäftsbericht manuell mit einem LLM (z. B. ChatGPT oder Claude) verwertbare Informationen erzeugst – Schritt für Schritt per Copy & Paste.\n",
    "Jeder Abschnitt enthält einen Prompt, den du direkt verwenden kannst."
   ]
  },
  {
   "cell_type": "markdown",
   "id": "7b30fc9c",
   "metadata": {},
   "source": [
    "## 📄 Ausgangstext (Bericht)\n",
    "\n",
    "```text\n",
    "Im ersten Quartal 2025 verzeichnete das Unternehmen ein Umsatzwachstum von 7 %. \n",
    "Gleichzeitig stiegen die Rohstoffpreise deutlich, was zu erhöhten Produktionskosten führte. \n",
    "Die Expansion nach Osteuropa verläuft nach Plan, während das Projekt in Spanien Verzögerungen aufweist.\n",
    "Die Kundenbindung ist stabil geblieben, allerdings hat der Marktanteil leicht abgenommen.\n",
    "```"
   ]
  },
  {
   "cell_type": "markdown",
   "id": "a8f092d3",
   "metadata": {},
   "source": [
    "## 🔎 Prompt zur Zusammenfassung\n",
    "\n",
    "```text\n",
    "Fasse den folgenden Bericht in 5 Bulletpoints zusammen. \n",
    "Unterscheide Chancen und Risiken. Verwende klare, sachliche Sprache.\n",
    "\n",
    "Bericht:\n",
    "\n",
    "Im ersten Quartal 2025 verzeichnete das Unternehmen ein Umsatzwachstum von 7 %. \n",
    "Gleichzeitig stiegen die Rohstoffpreise deutlich, was zu erhöhten Produktionskosten führte. \n",
    "Die Expansion nach Osteuropa verläuft nach Plan, während das Projekt in Spanien Verzögerungen aufweist.\n",
    "Die Kundenbindung ist stabil geblieben, allerdings hat der Marktanteil leicht abgenommen.\n",
    "```"
   ]
  },
  {
   "cell_type": "markdown",
   "id": "a2a68229",
   "metadata": {},
   "source": [
    "## 🧠 Prompt zu Handlungsoptionen\n",
    "\n",
    "```text\n",
    "Welche drei strategischen Optionen ergeben sich aus dem obenstehenden Bericht? \n",
    "Beziehe dich auf die Chancen und Risiken.\n",
    "```"
   ]
  },
  {
   "cell_type": "markdown",
   "id": "7357079a",
   "metadata": {},
   "source": [
    "## 📊 Prompt zu Visualisierungsvorschlägen\n",
    "\n",
    "```text\n",
    "Welche Visualisierungen würden den Bericht optimal unterstützen? \n",
    "Liste die Vorschläge nach Relevanz auf.\n",
    "```"
   ]
  }
 ],
 "metadata": {},
 "nbformat": 4,
 "nbformat_minor": 5
}
