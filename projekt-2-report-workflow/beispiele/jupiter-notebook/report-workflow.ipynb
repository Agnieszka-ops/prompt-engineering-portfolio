bericht_text = """
Im ersten Quartal 2025 verzeichnete das Unternehmen ein Umsatzwachstum von 7 %. 
Gleichzeitig stiegen die Rohstoffpreise deutlich, was zu erhöhten Produktionskosten führte. 
Die Expansion nach Osteuropa verläuft nach Plan, während das Projekt in Spanien Verzögerungen aufweist.
Die Kundenbindung ist stabil geblieben, allerdings hat der Marktanteil leicht abgenommen.
"""
